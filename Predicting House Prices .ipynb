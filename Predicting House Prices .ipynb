{
 "cells": [
  {
   "cell_type": "markdown",
   "id": "3e63a0a0-73b9-426e-8f2d-b2e7a50edf3c",
   "metadata": {},
   "source": [
    "1. Importing Tools & Libraries"
   ]
  },
  {
   "cell_type": "code",
   "execution_count": 42,
   "id": "c0099168-027f-49de-8df8-e0b827b9862b",
   "metadata": {},
   "outputs": [
    {
     "name": "stdout",
     "output_type": "stream",
     "text": [
      "Requirement already satisfied: xgboost in c:\\users\\al hafiz computers\\downloads\\ml_project\\venv\\lib\\site-packages (3.0.2)\n",
      "Requirement already satisfied: numpy in c:\\users\\al hafiz computers\\downloads\\ml_project\\venv\\lib\\site-packages (from xgboost) (2.2.4)\n",
      "Requirement already satisfied: scipy in c:\\users\\al hafiz computers\\downloads\\ml_project\\venv\\lib\\site-packages (from xgboost) (1.15.2)\n"
     ]
    }
   ],
   "source": [
    "!pip install xgboost"
   ]
  },
  {
   "cell_type": "code",
   "execution_count": 43,
   "id": "6dddc11d-18f7-4bb3-8609-5e197cba62b1",
   "metadata": {
    "scrolled": true
   },
   "outputs": [],
   "source": [
    "import pandas as pd\n",
    "import numpy as np\n",
    "import matplotlib.pyplot as plt\n",
    "from collections import defaultdict\n",
    "from sklearn.linear_model import LinearRegression \n",
    "from sklearn.ensemble import RandomForestClassifier\n",
    "from xgboost import XGBRegressor\n",
    "from sklearn.metrics import mean_squared_error , r2_score\n",
    "from sklearn.model_selection import train_test_split"
   ]
  },
  {
   "cell_type": "markdown",
   "id": "9e28d0fe-f3a6-4c8b-9327-46d82bae0f4e",
   "metadata": {},
   "source": [
    "2. Load Dataset"
   ]
  },
  {
   "cell_type": "code",
   "execution_count": 44,
   "id": "96faf53a-b7d4-4c22-95e8-4bc0816cba33",
   "metadata": {},
   "outputs": [
    {
     "data": {
      "text/html": [
       "<div>\n",
       "<style scoped>\n",
       "    .dataframe tbody tr th:only-of-type {\n",
       "        vertical-align: middle;\n",
       "    }\n",
       "\n",
       "    .dataframe tbody tr th {\n",
       "        vertical-align: top;\n",
       "    }\n",
       "\n",
       "    .dataframe thead th {\n",
       "        text-align: right;\n",
       "    }\n",
       "</style>\n",
       "<table border=\"1\" class=\"dataframe\">\n",
       "  <thead>\n",
       "    <tr style=\"text-align: right;\">\n",
       "      <th></th>\n",
       "      <th>CRIM</th>\n",
       "      <th>ZN</th>\n",
       "      <th>INDUS</th>\n",
       "      <th>CHAS</th>\n",
       "      <th>NOX</th>\n",
       "      <th>RM</th>\n",
       "      <th>AGE</th>\n",
       "      <th>DIS</th>\n",
       "      <th>RAD</th>\n",
       "      <th>TAX</th>\n",
       "      <th>PTRATIO</th>\n",
       "      <th>B</th>\n",
       "      <th>LSTAT</th>\n",
       "      <th>MEDV</th>\n",
       "    </tr>\n",
       "  </thead>\n",
       "  <tbody>\n",
       "    <tr>\n",
       "      <th>0</th>\n",
       "      <td>0.00632</td>\n",
       "      <td>18.0</td>\n",
       "      <td>2.31</td>\n",
       "      <td>0.0</td>\n",
       "      <td>0.538</td>\n",
       "      <td>6.575</td>\n",
       "      <td>65.2</td>\n",
       "      <td>4.0900</td>\n",
       "      <td>1</td>\n",
       "      <td>296</td>\n",
       "      <td>15.3</td>\n",
       "      <td>396.90</td>\n",
       "      <td>4.98</td>\n",
       "      <td>24.0</td>\n",
       "    </tr>\n",
       "    <tr>\n",
       "      <th>1</th>\n",
       "      <td>0.02731</td>\n",
       "      <td>0.0</td>\n",
       "      <td>7.07</td>\n",
       "      <td>0.0</td>\n",
       "      <td>0.469</td>\n",
       "      <td>6.421</td>\n",
       "      <td>78.9</td>\n",
       "      <td>4.9671</td>\n",
       "      <td>2</td>\n",
       "      <td>242</td>\n",
       "      <td>17.8</td>\n",
       "      <td>396.90</td>\n",
       "      <td>9.14</td>\n",
       "      <td>21.6</td>\n",
       "    </tr>\n",
       "    <tr>\n",
       "      <th>2</th>\n",
       "      <td>0.02729</td>\n",
       "      <td>0.0</td>\n",
       "      <td>7.07</td>\n",
       "      <td>0.0</td>\n",
       "      <td>0.469</td>\n",
       "      <td>7.185</td>\n",
       "      <td>61.1</td>\n",
       "      <td>4.9671</td>\n",
       "      <td>2</td>\n",
       "      <td>242</td>\n",
       "      <td>17.8</td>\n",
       "      <td>392.83</td>\n",
       "      <td>4.03</td>\n",
       "      <td>34.7</td>\n",
       "    </tr>\n",
       "    <tr>\n",
       "      <th>3</th>\n",
       "      <td>0.03237</td>\n",
       "      <td>0.0</td>\n",
       "      <td>2.18</td>\n",
       "      <td>0.0</td>\n",
       "      <td>0.458</td>\n",
       "      <td>6.998</td>\n",
       "      <td>45.8</td>\n",
       "      <td>6.0622</td>\n",
       "      <td>3</td>\n",
       "      <td>222</td>\n",
       "      <td>18.7</td>\n",
       "      <td>394.63</td>\n",
       "      <td>2.94</td>\n",
       "      <td>33.4</td>\n",
       "    </tr>\n",
       "    <tr>\n",
       "      <th>5</th>\n",
       "      <td>0.02985</td>\n",
       "      <td>0.0</td>\n",
       "      <td>2.18</td>\n",
       "      <td>0.0</td>\n",
       "      <td>0.458</td>\n",
       "      <td>6.430</td>\n",
       "      <td>58.7</td>\n",
       "      <td>6.0622</td>\n",
       "      <td>3</td>\n",
       "      <td>222</td>\n",
       "      <td>18.7</td>\n",
       "      <td>394.12</td>\n",
       "      <td>5.21</td>\n",
       "      <td>28.7</td>\n",
       "    </tr>\n",
       "  </tbody>\n",
       "</table>\n",
       "</div>"
      ],
      "text/plain": [
       "      CRIM    ZN  INDUS  CHAS    NOX     RM   AGE     DIS  RAD  TAX  PTRATIO  \\\n",
       "0  0.00632  18.0   2.31   0.0  0.538  6.575  65.2  4.0900    1  296     15.3   \n",
       "1  0.02731   0.0   7.07   0.0  0.469  6.421  78.9  4.9671    2  242     17.8   \n",
       "2  0.02729   0.0   7.07   0.0  0.469  7.185  61.1  4.9671    2  242     17.8   \n",
       "3  0.03237   0.0   2.18   0.0  0.458  6.998  45.8  6.0622    3  222     18.7   \n",
       "5  0.02985   0.0   2.18   0.0  0.458  6.430  58.7  6.0622    3  222     18.7   \n",
       "\n",
       "        B  LSTAT  MEDV  \n",
       "0  396.90   4.98  24.0  \n",
       "1  396.90   9.14  21.6  \n",
       "2  392.83   4.03  34.7  \n",
       "3  394.63   2.94  33.4  \n",
       "5  394.12   5.21  28.7  "
      ]
     },
     "execution_count": 44,
     "metadata": {},
     "output_type": "execute_result"
    }
   ],
   "source": [
    "df = pd.read_csv(\"HousingData.csv\")\n",
    "df = df.dropna()\n",
    "df.head()"
   ]
  },
  {
   "cell_type": "markdown",
   "id": "ce43081c-4adf-4ffd-84ae-f24cdfc3a90d",
   "metadata": {},
   "source": [
    "3. Convert Float Columns to Int"
   ]
  },
  {
   "cell_type": "code",
   "execution_count": 45,
   "id": "8c07ba1a-d6b1-4198-9e34-2a8f4bb34ce3",
   "metadata": {
    "scrolled": true
   },
   "outputs": [
    {
     "data": {
      "text/html": [
       "<div>\n",
       "<style scoped>\n",
       "    .dataframe tbody tr th:only-of-type {\n",
       "        vertical-align: middle;\n",
       "    }\n",
       "\n",
       "    .dataframe tbody tr th {\n",
       "        vertical-align: top;\n",
       "    }\n",
       "\n",
       "    .dataframe thead th {\n",
       "        text-align: right;\n",
       "    }\n",
       "</style>\n",
       "<table border=\"1\" class=\"dataframe\">\n",
       "  <thead>\n",
       "    <tr style=\"text-align: right;\">\n",
       "      <th></th>\n",
       "      <th>CRIM</th>\n",
       "      <th>ZN</th>\n",
       "      <th>INDUS</th>\n",
       "      <th>CHAS</th>\n",
       "      <th>NOX</th>\n",
       "      <th>RM</th>\n",
       "      <th>AGE</th>\n",
       "      <th>DIS</th>\n",
       "      <th>RAD</th>\n",
       "      <th>TAX</th>\n",
       "      <th>PTRATIO</th>\n",
       "      <th>B</th>\n",
       "      <th>LSTAT</th>\n",
       "      <th>MEDV</th>\n",
       "    </tr>\n",
       "  </thead>\n",
       "  <tbody>\n",
       "    <tr>\n",
       "      <th>0</th>\n",
       "      <td>0</td>\n",
       "      <td>18</td>\n",
       "      <td>2</td>\n",
       "      <td>0</td>\n",
       "      <td>0</td>\n",
       "      <td>6</td>\n",
       "      <td>65</td>\n",
       "      <td>4</td>\n",
       "      <td>1</td>\n",
       "      <td>296</td>\n",
       "      <td>15</td>\n",
       "      <td>396</td>\n",
       "      <td>4</td>\n",
       "      <td>24</td>\n",
       "    </tr>\n",
       "    <tr>\n",
       "      <th>1</th>\n",
       "      <td>0</td>\n",
       "      <td>0</td>\n",
       "      <td>7</td>\n",
       "      <td>0</td>\n",
       "      <td>0</td>\n",
       "      <td>6</td>\n",
       "      <td>78</td>\n",
       "      <td>4</td>\n",
       "      <td>2</td>\n",
       "      <td>242</td>\n",
       "      <td>17</td>\n",
       "      <td>396</td>\n",
       "      <td>9</td>\n",
       "      <td>21</td>\n",
       "    </tr>\n",
       "    <tr>\n",
       "      <th>2</th>\n",
       "      <td>0</td>\n",
       "      <td>0</td>\n",
       "      <td>7</td>\n",
       "      <td>0</td>\n",
       "      <td>0</td>\n",
       "      <td>7</td>\n",
       "      <td>61</td>\n",
       "      <td>4</td>\n",
       "      <td>2</td>\n",
       "      <td>242</td>\n",
       "      <td>17</td>\n",
       "      <td>392</td>\n",
       "      <td>4</td>\n",
       "      <td>34</td>\n",
       "    </tr>\n",
       "    <tr>\n",
       "      <th>3</th>\n",
       "      <td>0</td>\n",
       "      <td>0</td>\n",
       "      <td>2</td>\n",
       "      <td>0</td>\n",
       "      <td>0</td>\n",
       "      <td>6</td>\n",
       "      <td>45</td>\n",
       "      <td>6</td>\n",
       "      <td>3</td>\n",
       "      <td>222</td>\n",
       "      <td>18</td>\n",
       "      <td>394</td>\n",
       "      <td>2</td>\n",
       "      <td>33</td>\n",
       "    </tr>\n",
       "    <tr>\n",
       "      <th>5</th>\n",
       "      <td>0</td>\n",
       "      <td>0</td>\n",
       "      <td>2</td>\n",
       "      <td>0</td>\n",
       "      <td>0</td>\n",
       "      <td>6</td>\n",
       "      <td>58</td>\n",
       "      <td>6</td>\n",
       "      <td>3</td>\n",
       "      <td>222</td>\n",
       "      <td>18</td>\n",
       "      <td>394</td>\n",
       "      <td>5</td>\n",
       "      <td>28</td>\n",
       "    </tr>\n",
       "  </tbody>\n",
       "</table>\n",
       "</div>"
      ],
      "text/plain": [
       "   CRIM  ZN  INDUS  CHAS  NOX  RM  AGE  DIS  RAD  TAX  PTRATIO    B  LSTAT  \\\n",
       "0     0  18      2     0    0   6   65    4    1  296       15  396      4   \n",
       "1     0   0      7     0    0   6   78    4    2  242       17  396      9   \n",
       "2     0   0      7     0    0   7   61    4    2  242       17  392      4   \n",
       "3     0   0      2     0    0   6   45    6    3  222       18  394      2   \n",
       "5     0   0      2     0    0   6   58    6    3  222       18  394      5   \n",
       "\n",
       "   MEDV  \n",
       "0    24  \n",
       "1    21  \n",
       "2    34  \n",
       "3    33  \n",
       "5    28  "
      ]
     },
     "execution_count": 45,
     "metadata": {},
     "output_type": "execute_result"
    }
   ],
   "source": [
    "df=df.apply(lambda x : x.astype(int) if x.dtype == 'float64' else x)\n",
    "df.head()"
   ]
  },
  {
   "cell_type": "markdown",
   "id": "8d64cfbe-6597-4c26-b694-f14eea183f04",
   "metadata": {},
   "source": [
    "4. Normalize Features "
   ]
  },
  {
   "cell_type": "code",
   "execution_count": 46,
   "id": "220d5a95-4797-4348-be85-4f1532c2aa86",
   "metadata": {
    "scrolled": true
   },
   "outputs": [],
   "source": [
    "features=df.columns[df.columns != 'MEDV']\n",
    "df[features]= (df[features]-df[features].min()) / (df[features].max()-df[features].min())"
   ]
  },
  {
   "cell_type": "markdown",
   "id": "41c7eb3b-1f96-4904-8a9b-27710610e1f2",
   "metadata": {},
   "source": [
    "5. Split Data"
   ]
  },
  {
   "cell_type": "code",
   "execution_count": 47,
   "id": "c7852982-8725-4a11-9a36-7df5edd2602b",
   "metadata": {},
   "outputs": [],
   "source": [
    "x = df.drop('MEDV',axis = 1).values\n",
    "y = df['MEDV'].values.reshape(-1,1)\n",
    "n,d = x.shape"
   ]
  },
  {
   "cell_type": "markdown",
   "id": "e84b37ac-c777-4b61-b053-b397896db55d",
   "metadata": {},
   "source": [
    "6. Train Test Split"
   ]
  },
  {
   "cell_type": "code",
   "execution_count": 48,
   "id": "c4eb811a-fe1f-4086-be8c-e438c5506dfe",
   "metadata": {},
   "outputs": [],
   "source": [
    "idx = int(n* 0.8)\n",
    "x_train,x_test = x[:idx],x[idx:]\n",
    "y_train,y_test = y[:idx],y[idx:]"
   ]
  },
  {
   "cell_type": "markdown",
   "id": "8467f47d-74fc-4694-9d96-c6c8f1a9c9f4",
   "metadata": {},
   "source": [
    "7.  Check and Fix NaNs \\ Infs before traning "
   ]
  },
  {
   "cell_type": "code",
   "execution_count": 49,
   "id": "dd08b3f3-8659-4070-99f6-6981dd6b03cb",
   "metadata": {},
   "outputs": [],
   "source": [
    "x_train = np.nan_to_num(x_train,nan=0.0,posinf=0.0,neginf=0.0)"
   ]
  },
  {
   "cell_type": "code",
   "execution_count": 50,
   "id": "aaad036e-5098-4320-b05b-a66f294e59d3",
   "metadata": {},
   "outputs": [],
   "source": [
    "y_train = np.nan_to_num(y_train,nan=0.0,posinf=0.0,neginf=0.0)"
   ]
  },
  {
   "cell_type": "code",
   "execution_count": 51,
   "id": "f70fb01c-e6b7-43ae-b8c6-564ea7766f6f",
   "metadata": {},
   "outputs": [],
   "source": [
    "x_test = np.nan_to_num(x_test,nan=0.0,posinf=0.0,neginf=0.0)"
   ]
  },
  {
   "cell_type": "code",
   "execution_count": 52,
   "id": "d81b7772-0bfb-4fb3-a0d0-f2eb18dd9f66",
   "metadata": {},
   "outputs": [],
   "source": [
    "y_test = np.nan_to_num(y_test,nan=0.0,posinf=0.0,neginf=0.0)"
   ]
  },
  {
   "cell_type": "markdown",
   "id": "9370fbd4-bf1d-469a-a7b5-dbfd47fa2830",
   "metadata": {},
   "source": [
    "8. Linear Regression"
   ]
  },
  {
   "cell_type": "code",
   "execution_count": 53,
   "id": "31185536-5a8d-4dcb-9465-f458810b7f9e",
   "metadata": {
    "scrolled": true
   },
   "outputs": [],
   "source": [
    "xb = np.hstack([np.ones((x_train.shape[0],1)),x_train])\n",
    "theta = np.linalg.pinv(xb) @ y_train\n",
    "xb_test = np.hstack([np.ones((x_test.shape[0],1)),x_test])\n",
    "y_pred_lr = xb_test @ theta"
   ]
  },
  {
   "cell_type": "markdown",
   "id": "30b4cd54-c917-4d9e-ba0f-7a85488f3469",
   "metadata": {},
   "source": [
    "9. RMSE & R2"
   ]
  },
  {
   "cell_type": "code",
   "execution_count": 54,
   "id": "9a50b44f-5850-4ab3-b33f-8d273eabc9d7",
   "metadata": {},
   "outputs": [
    {
     "name": "stdout",
     "output_type": "stream",
     "text": [
      "Linear Regression:\n",
      "RMSE: 4.603027402279148\n",
      "R2: 0.11432236566198506\n"
     ]
    }
   ],
   "source": [
    "rmse = lambda y, p: np.sqrt(np.mean((y-p)**2))\n",
    "r2 = lambda y, p: 1-np.sum((y-p)**2) / np.sum((y-y.mean())**2)\n",
    "print(\"Linear Regression:\")\n",
    "print(\"RMSE:\" , rmse(y_test,y_pred_lr))\n",
    "print(\"R2:\" ,r2(y_test,y_pred_lr))"
   ]
  },
  {
   "cell_type": "markdown",
   "id": "dcb181ec-dca8-4227-8175-0919ee2bbdfe",
   "metadata": {},
   "source": [
    "10. Random Forest"
   ]
  },
  {
   "cell_type": "code",
   "execution_count": 55,
   "id": "d7b1b7a7-312c-4654-8538-997263cd7866",
   "metadata": {
    "scrolled": true
   },
   "outputs": [
    {
     "name": "stdout",
     "output_type": "stream",
     "text": [
      "\n",
      " Random Forest:\n",
      "RMSE: 7.442769414324918\n",
      "R2: -1.3155687808507066\n"
     ]
    }
   ],
   "source": [
    "from random import randint,sample\n",
    "trees,preds = [],[]\n",
    "for _ in range(10):\n",
    "    ixs = [randint(0,len(x_train)-1) for _ in range(len(x_train))]\n",
    "    feat_idx = sample(range(d),int(np.sqrt(d)))\n",
    "    x_sub,y_sub = x_train[ixs][:,feat_idx],y_train[ixs]\n",
    "    low_mask = x_sub[:,0] < x_sub[:,0].mean()\n",
    "    high_mask = ~low_mask\n",
    "    avg_low = y_sub[low_mask].mean() if np.any(low_mask) else y_sub.mean()\n",
    "    avg_high = y_sub[high_mask].mean() if np.any(high_mask) else y_sub.mean()\n",
    "    pred = np.array([avg_low if x [feat_idx[0]] < x_train[:,feat_idx[0]].mean() else avg_high for x in x_test])\n",
    "    preds.append(pred.reshape(-1,1))\n",
    "y_pred_rf = np.mean(preds, axis=0)\n",
    "print(\"\\n Random Forest:\")\n",
    "print(\"RMSE:\",rmse(y_test,y_pred_rf))\n",
    "print(\"R2:\",r2(y_test,y_pred_rf))\n",
    "\n"
   ]
  },
  {
   "cell_type": "markdown",
   "id": "fbfbe285-baed-4e2c-b8b9-10a57af3f5e7",
   "metadata": {},
   "source": [
    "11. XGBoost"
   ]
  },
  {
   "cell_type": "code",
   "execution_count": 62,
   "id": "90b83ef6-af07-4834-917b-7bcc60c18f72",
   "metadata": {
    "scrolled": true
   },
   "outputs": [
    {
     "ename": "NameError",
     "evalue": "name 'X_train' is not defined",
     "output_type": "error",
     "traceback": [
      "\u001b[31m---------------------------------------------------------------------------\u001b[39m",
      "\u001b[31mNameError\u001b[39m                                 Traceback (most recent call last)",
      "\u001b[36mCell\u001b[39m\u001b[36m \u001b[39m\u001b[32mIn[62]\u001b[39m\u001b[32m, line 15\u001b[39m\n\u001b[32m     13\u001b[39m \u001b[38;5;28;01mfor\u001b[39;00m lr,tree \u001b[38;5;129;01min\u001b[39;00m preds:\n\u001b[32m     14\u001b[39m     \u001b[38;5;28;01mfor\u001b[39;00m i, x \u001b[38;5;129;01min\u001b[39;00m \u001b[38;5;28menumerate\u001b[39m(x_test):\n\u001b[32m---> \u001b[39m\u001b[32m15\u001b[39m         y_pred_xgb[i] += lr*tree[\u001b[38;5;28mtuple\u001b[39m(x > X_train.mean(axis=\u001b[32m0\u001b[39m))]\n",
      "\u001b[31mNameError\u001b[39m: name 'X_train' is not defined"
     ]
    }
   ],
   "source": [
    "residual = y_train.astype(np.float64)\n",
    "preds =[]\n",
    "for i in range(10):\n",
    "    tree = defaultdict(float)\n",
    "    for i in range(len(residual)):\n",
    "        b = tuple(x_train[i] > x_train.mean(axis=0))\n",
    "        tree[b] += residual[1][0]\n",
    "        for b in tree: tree[b] /= list(b).count(True)\n",
    "        pred = np.array([tree[tuple(x > x_train.mean(axis=0))] for x in x_train]).reshape(-1,1)\n",
    "        residual -= 0.1*pred\n",
    "        preds.append((0.1,tree))\n",
    "y_pred_xgb = np.zeros((len(x_test),1))\n",
    "for lr,tree in preds:\n",
    "    for i, x in enumerate(x_test):\n",
    "        y_pred_xgb[i] += lr*tree[tuple(x > X_train.mean(axis=0))]"
   ]
  },
  {
   "cell_type": "code",
   "execution_count": 58,
   "id": "1b5b0f15-5b6c-4790-91d6-b5c420ac996f",
   "metadata": {
    "scrolled": true
   },
   "outputs": [
    {
     "name": "stdout",
     "output_type": "stream",
     "text": [
      "\n",
      " XGBoost :\n",
      "RMSE : 15.994065355070877\n",
      "R2 : -9.693165530267512\n"
     ]
    }
   ],
   "source": [
    "print(\"\\n XGBoost :\")\n",
    "print(\"RMSE :\",rmse(y_test,y_pred_xgb))\n",
    "print(\"R2 :\",r2(y_test,y_pred_xgb))"
   ]
  },
  {
   "cell_type": "markdown",
   "id": "d319cdee-85fd-4a62-ad69-9698466283d9",
   "metadata": {},
   "source": [
    "12. Feature Importance "
   ]
  },
  {
   "cell_type": "code",
   "execution_count": null,
   "id": "9155a86f-a038-46c3-a11f-6956d00bf293",
   "metadata": {},
   "outputs": [],
   "source": [
    "importances = np.zeros(d)\n",
    "for _ in range(100):\n",
    "    f = randint(0,d-1)\n",
    "    left = y_train[x_train[:,f] < x_train[:,f].mean()]\n",
    "    right = y_train[x_train[:,f] >= x_train[:,f].mean()]\n",
    "    total_var = y_train.var()\n",
    "    if len(left) > 0 and len(left) > 0:\n",
    "        split_var = (left.var()*len(left)+right.var()*len(right))/len(y_train)\n",
    "    else:\n",
    "        split_var = float('inf')\n",
    "    \n",
    "    importances[f] += total_var - split_var"
   ]
  },
  {
   "cell_type": "code",
   "execution_count": 63,
   "id": "b57ee15b-3bdb-4d1e-a7c6-a17b08fa5f5f",
   "metadata": {
    "scrolled": true
   },
   "outputs": [
    {
     "data": {
      "image/png": "[encoded data removed]",
      "text/plain": [
       "<Figure size 640x480 with 1 Axes>"
      ]
     },
     "metadata": {},
     "output_type": "display_data"
    }
   ],
   "source": [
    "feature_names = df.drop('MEDV',axis=1).columns\n",
    "plt.bar(feature_names,importances)\n",
    "plt.xticks(rotation = 90)\n",
    "plt.title(\"Feature Importance (Random Forest Approx)\")\n",
    "plt.tight_layout()\n",
    "plt.show()"
   ]
  },
  {
   "cell_type": "code",
   "execution_count": null,
   "id": "7d0911f6-e613-45eb-90d6-a6483ce06c90",
   "metadata": {},
   "outputs": [],
   "source": []
  },
  {
   "cell_type": "code",
   "execution_count": null,
   "id": "b492a46d-2804-43e2-ad2d-df1a7d7ff8c0",
   "metadata": {},
   "outputs": [],
   "source": []
  },
  {
   "cell_type": "code",
   "execution_count": null,
   "id": "7132451c-8c5d-44f4-aa3e-089c5ed6af38",
   "metadata": {},
   "outputs": [],
   "source": []
  },
  {
   "cell_type": "code",
   "execution_count": null,
   "id": "b9992229-e63a-43fd-9b7b-2d20492cb04b",
   "metadata": {},
   "outputs": [],
   "source": []
  },
  {
   "cell_type": "code",
   "execution_count": null,
   "id": "ac2c2f37-4504-4d61-bd44-a6c0dc1963a9",
   "metadata": {},
   "outputs": [],
   "source": []
  },
  {
   "cell_type": "code",
   "execution_count": null,
   "id": "f3b79460-cc37-4b7e-827c-1852af009ec0",
   "metadata": {},
   "outputs": [],
   "source": []
  },
  {
   "cell_type": "code",
   "execution_count": null,
   "id": "a62545c7-2435-42fc-9d1c-3aedb590c354",
   "metadata": {},
   "outputs": [],
   "source": []
  },
  {
   "cell_type": "code",
   "execution_count": null,
   "id": "d64984a0-3cc6-4f26-959a-a94276fb18e4",
   "metadata": {},
   "outputs": [],
   "source": []
  },
  {
   "cell_type": "code",
   "execution_count": null,
   "id": "20cc4f61-7e7c-4e89-a58c-7910e86fe741",
   "metadata": {},
   "outputs": [],
   "source": []
  },
  {
   "cell_type": "code",
   "execution_count": null,
   "id": "96d4e0e8-ee9f-4c39-8b57-a8e1ece06e43",
   "metadata": {},
   "outputs": [],
   "source": []
  }
 ],
 "metadata": {
  "kernelspec": {
   "display_name": "Python 3 (ipykernel)",
   "language": "python",
   "name": "python3"
  },
  "language_info": {
   "codemirror_mode": {
    "name": "ipython",
    "version": 3
   },
   "file_extension": ".py",
   "mimetype": "text/x-python",
   "name": "python",
   "nbconvert_exporter": "python",
   "pygments_lexer": "ipython3",
   "version": "3.13.2"
  }
 },
 "nbformat": 4,
 "nbformat_minor": 5
}
